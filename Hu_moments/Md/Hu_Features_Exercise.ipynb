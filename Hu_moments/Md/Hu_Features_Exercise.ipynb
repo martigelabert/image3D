{
 "cells": [
  {
   "cell_type": "code",
   "execution_count": 1,
   "outputs": [
    {
     "ename": "ModuleNotFoundError",
     "evalue": "No module named 'pandas'",
     "output_type": "error",
     "traceback": [
      "\u001B[1;31m---------------------------------------------------------------------------\u001B[0m",
      "\u001B[1;31mModuleNotFoundError\u001B[0m                       Traceback (most recent call last)",
      "Input \u001B[1;32mIn [1]\u001B[0m, in \u001B[0;36m<cell line: 5>\u001B[1;34m()\u001B[0m\n\u001B[0;32m      3\u001B[0m \u001B[38;5;28;01mimport\u001B[39;00m \u001B[38;5;21;01mnumpy\u001B[39;00m \u001B[38;5;28;01mas\u001B[39;00m \u001B[38;5;21;01mnp\u001B[39;00m\n\u001B[0;32m      4\u001B[0m \u001B[38;5;28;01mimport\u001B[39;00m \u001B[38;5;21;01mmatplotlib\u001B[39;00m\u001B[38;5;21;01m.\u001B[39;00m\u001B[38;5;21;01mpyplot\u001B[39;00m \u001B[38;5;28;01mas\u001B[39;00m \u001B[38;5;21;01mplt\u001B[39;00m\n\u001B[1;32m----> 5\u001B[0m \u001B[38;5;28;01mimport\u001B[39;00m \u001B[38;5;21;01mpandas\u001B[39;00m \u001B[38;5;28;01mas\u001B[39;00m \u001B[38;5;21;01mpd\u001B[39;00m\n\u001B[0;32m      6\u001B[0m \u001B[38;5;28;01mfrom\u001B[39;00m \u001B[38;5;21;01mgoogle\u001B[39;00m\u001B[38;5;21;01m.\u001B[39;00m\u001B[38;5;21;01mcolab\u001B[39;00m\u001B[38;5;21;01m.\u001B[39;00m\u001B[38;5;21;01mpatches\u001B[39;00m \u001B[38;5;28;01mimport\u001B[39;00m cv2_imshow\n",
      "\u001B[1;31mModuleNotFoundError\u001B[0m: No module named 'pandas'"
     ]
    }
   ],
   "source": [
    "import cv2\n",
    "from math import copysign, log10\n",
    "import numpy as np\n",
    "import matplotlib.pyplot as plt\n",
    "import pandas as pd\n"
   ],
   "metadata": {
    "id": "Mx7sbJoDS3-d"
   }
  },
  {
   "cell_type": "markdown",
   "source": [
    "# Object description\n",
    "\n",
    "We are going to use the Hu Moments to describe and group different objects in images. In the folder called _data_ you can find a simple image with different objects.\n",
    "\n",
    "## Load and binarize the image\n",
    "\n",
    "The first job is to load the image and binarize it. It is important to load the image using the `cv2.IMREAD_GRAYSCALE` parameter in order to obtain a 2D matrix. Show the binarized image in order to check this part of the process."
   ],
   "metadata": {
    "collapsed": false,
    "id": "MqjRu88VS3-m"
   }
  },
  {
   "cell_type": "code",
   "execution_count": null,
   "metadata": {
    "collapsed": true,
    "id": "rBcRUAP7S3-p",
    "colab": {
     "base_uri": "https://localhost:8080/",
     "height": 286
    },
    "outputId": "0f3789b9-5876-4078-a781-a8ed39214059"
   },
   "outputs": [
    {
     "output_type": "execute_result",
     "data": {
      "text/plain": [
       "<matplotlib.image.AxesImage at 0x7fe44b4b7150>"
      ]
     },
     "metadata": {},
     "execution_count": 105
    },
    {
     "output_type": "display_data",
     "data": {
      "text/plain": [
       "<Figure size 432x288 with 1 Axes>"
      ],
      "image/png": "[encoded data removed]"
     },
     "metadata": {
      "needs_background": "light"
     }
    }
   ],
   "source": [
    "filename = \"../data/simple_shapes.png\"\n",
    "im = cv2.imread(filename, 0)\n",
    "im_binary = np.ones_like(im)\n",
    "im_binary[im>254] = 0\n",
    "plt.imshow(im_binary, cmap = 'gray')"
   ]
  },
  {
   "cell_type": "markdown",
   "source": [
    "## Contour detection\n",
    "\n",
    "As you did in the segmentation assignment of the Image Analysis subject, you have to use the `findContours` function to detect all the objects in the image. In order to check if you have performed a correct detection you have to draw the contours on the image and visualize them.\n",
    "\n",
    "_Extra_: Given a contour, you can obtain its bounding box by using the `boundingRect` function.\n"
   ],
   "metadata": {
    "collapsed": false,
    "id": "67ZNwv76S3-r"
   }
  },
  {
   "cell_type": "code",
   "execution_count": null,
   "outputs": [
    {
     "output_type": "stream",
     "name": "stdout",
     "text": [
      "16\n"
     ]
    }
   ],
   "source": [
    "contours, _ = cv2.findContours(im_binary, cv2.RETR_EXTERNAL, cv2.CHAIN_APPROX_SIMPLE)\n",
    "print(len(contours))\n",
    "region_mask = np.zeros_like(im)\n",
    "for contour in contours:\n",
    "  # Drawing the contours for visualization\n",
    "  region_mask = cv2.drawContours(region_mask, [contour], 0, 255, -1)"
   ],
   "metadata": {
    "id": "z_bYxp1rS3-s",
    "colab": {
     "base_uri": "https://localhost:8080/"
    },
    "outputId": "1dcc9809-1d4c-4284-de5b-b2e0a909df34"
   }
  },
  {
   "cell_type": "code",
   "source": [
    "plt.imshow(region_mask, 'gray')\n",
    "plt.show()"
   ],
   "metadata": {
    "colab": {
     "base_uri": "https://localhost:8080/",
     "height": 269
    },
    "id": "9uYyUs53aBsH",
    "outputId": "c9a61a8b-059b-431e-eeff-072f40c5d0c2"
   },
   "execution_count": null,
   "outputs": [
    {
     "output_type": "display_data",
     "data": {
      "text/plain": [
       "<Figure size 432x288 with 1 Axes>"
      ],
      "image/png": "[encoded data removed]"
     },
     "metadata": {
      "needs_background": "light"
     }
    }
   ]
  },
  {
   "cell_type": "markdown",
   "source": [
    "## Descriptor\n",
    "\n",
    "As we stated before, you are going to describe each object by means of the *moments*. _OpenCV_ has a built-in function for calculating Hu Moments. It is called `HuMoments` and it takes as input the central moments of the image which can be calculated using the function `moments`. The function `moments` can receive a binary image or a set of points describing a contour.\n",
    "\n",
    "The Hu Moments obtained have a large range, so we can apply a log transform by using next code: `moment_i = -1* copysign(1.0, moment_i) * log10(abs(moment_i)))`. The `copysign` and `log10` functions are part of the _math_ library.\n"
   ],
   "metadata": {
    "collapsed": false,
    "id": "XnmkzAstS3-t"
   }
  },
  {
   "cell_type": "code",
   "source": [
    "rgn_mask_mmnts = region_mask.copy()\n",
    "regional_huMoments = np.zeros((len(contours), 7))\n",
    "for j, contour in enumerate(contours):\n",
    "  M = cv2.moments(contour)\n",
    "  try:\n",
    "    cX = int(M[\"m10\"] / M[\"m00\"])\n",
    "    cY = int(M[\"m01\"] / M[\"m00\"])\n",
    "  except:\n",
    "    continue\n",
    "  huMoments = cv2.HuMoments(M)\n",
    "  # huMoments = -1* np.copysign(1.0, huMoments) * np.log10(np.abs(huMoments), where = huMoments!=0))\n",
    "  for i in range(0, 7):\n",
    "    # Works more accurately without scaling\n",
    "    # if huMoments[i] != 0:\n",
    "    #   huMoments[i] = -1* copysign(1.0, huMoments[i]) * log10(abs(huMoments[i]))\n",
    "    regional_huMoments[j, i] = huMoments[i]\n",
    "  # Identifying which index represents which shape/contour\n",
    "  cv2.circle(rgn_mask_mmnts, (cX, cY), 5, 0, -1)\n",
    "  cv2.putText(rgn_mask_mmnts, str(j), (cX - 10, cY - 10),cv2.FONT_HERSHEY_SIMPLEX, .7, 0, 2)"
   ],
   "metadata": {
    "id": "MLKpyLxxKjer"
   },
   "execution_count": null,
   "outputs": []
  },
  {
   "cell_type": "code",
   "source": [
    "plt.imshow(rgn_mask_mmnts, 'gray')"
   ],
   "metadata": {
    "colab": {
     "base_uri": "https://localhost:8080/",
     "height": 286
    },
    "id": "bywMspp6b8Nq",
    "outputId": "429e4552-875c-42a6-ec52-461bc223ba68"
   },
   "execution_count": null,
   "outputs": [
    {
     "output_type": "execute_result",
     "data": {
      "text/plain": [
       "<matplotlib.image.AxesImage at 0x7fe4495166d0>"
      ]
     },
     "metadata": {},
     "execution_count": 109
    },
    {
     "output_type": "display_data",
     "data": {
      "text/plain": [
       "<Figure size 432x288 with 1 Axes>"
      ],
      "image/png": "[encoded data removed]"
     },
     "metadata": {
      "needs_background": "light"
     }
    }
   ]
  },
  {
   "cell_type": "markdown",
   "source": [
    "## Shape matching\n",
    "\n",
    "Now you have a descriptor for each object. Next step is to calculate the euclidean distance between the shapes and try to obtain groups of similar objects.\n",
    "\n",
    "**This is a challenging step!!**"
   ],
   "metadata": {
    "collapsed": false,
    "id": "6FHivgOWS3-w"
   }
  },
  {
   "cell_type": "code",
   "source": [
    "shape_group = {}\n",
    "class_idx = 1\n",
    "for i in range(len(contours)):\n",
    "  dist = []\n",
    "  for j in range(len(contours)):\n",
    "    if i != j:\n",
    "      dist.append(np.linalg.norm(regional_huMoments[i] - regional_huMoments[j]))\n",
    "    else:\n",
    "      dist.append(100000)\n",
    "\n",
    "  # Considering least two distances, \\\n",
    "  # checks if etiher of them already belongs to a group and assigns the index accordingly\\\n",
    "  # else a new group index is used\n",
    "  if i not in shape_group and np.argmin(dist) not in shape_group and np.argsort(dist)[1] not in shape_group:\n",
    "    shape_group[i] = class_idx\n",
    "    shape_group[np.argmin(dist)] = class_idx # closest shape\n",
    "    shape_group[np.argsort(dist)[1]] = class_idx # second closest shape\n",
    "    class_idx += 1 # Create new class index\n",
    "\n",
    "  elif i in shape_group and np.argmin(dist) not in shape_group and np.argsort(dist)[1] not in shape_group:\n",
    "    shape_group[np.argmin(dist)] = shape_group[i]\n",
    "    shape_group[np.argsort(dist)[1]] = shape_group[i]\n",
    "\n",
    "  elif i not in shape_group and np.argmin(dist) in shape_group and np.argsort(dist)[1] not in shape_group:\n",
    "    shape_group[i] = shape_group[np.argmin(dist)]\n",
    "    shape_group[np.argsort(dist)[1]] = shape_group[np.argmin(dist)]\n",
    "\n",
    "  elif i not in shape_group and np.argmin(dist) not in shape_group and np.argsort(dist)[1] in shape_group:\n",
    "    shape_group[i] = shape_group[np.argsort(dist)[1]]\n",
    "    shape_group[np.argmin(dist)] = shape_group[np.argsort(dist)[1]]\n",
    "\n",
    "  elif i not in shape_group:\n",
    "    if shape_group[np.argmin(dist)] != shape_group[np.argsort(dist)[1]]:\n",
    "      raise RuntimeError(\"CONFLICT\", np.argmin(dist), np.argsort(dist)[1])\n",
    "    shape_group[i] = shape_group[np.argmin(dist)]"
   ],
   "metadata": {
    "id": "h_5ZQkCFfBxR"
   },
   "execution_count": null,
   "outputs": []
  },
  {
   "cell_type": "code",
   "source": [
    "im_color = cv2.imread(filename)\n",
    "colors = [(115, 120, 168), (246, 10, 231), (80, 231, 216),(253, 43, 188),(67, 64, 92),(239, 144, 217),(249, 58, 204),(227, 153, 141),(47, 217, 12),(191, 254, 204),(58, 85, 252),(229, 163, 167),(101, 104, 136),(68, 114, 196),(66, 172, 62)]\n",
    "for i, contour in enumerate(contours):\n",
    "  cv2.drawContours(im_color, [contour], 0, (0,0,0), 2)\n",
    "  cv2.drawContours(im_color, [contour], 0, colors[shape_group[i]], -1)"
   ],
   "metadata": {
    "id": "1HmCIoW8YOWT"
   },
   "execution_count": null,
   "outputs": []
  },
  {
   "cell_type": "code",
   "source": [
    "cv2_imshow(im_color)"
   ],
   "metadata": {
    "colab": {
     "base_uri": "https://localhost:8080/",
     "height": 594
    },
    "id": "nnEpmAbILXRa",
    "outputId": "abc2b255-4726-41e3-9957-b546e79a1cc6"
   },
   "execution_count": null,
   "outputs": [
    {
     "output_type": "display_data",
     "data": {
      "text/plain": [
       "<PIL.Image.Image image mode=RGB size=576x577 at 0x7FE44948C990>"
      ],
      "image/png": "[encoded data removed]"
     },
     "metadata": {}
    }
   ]
  },
  {
   "cell_type": "markdown",
   "source": [
    "Other Attempts"
   ],
   "metadata": {
    "id": "RCNJgoYDNxoZ"
   }
  },
  {
   "cell_type": "code",
   "source": [
    "# cosine distance produces same results as euclidean distance\n",
    "from scipy.spatial.distance import cosine\n",
    "shape_group = []\n",
    "for i in range(len(contours)):\n",
    "  dist = []\n",
    "  for j in range(len(contours)):\n",
    "    if i != j:\n",
    "      dist.append(cosine(regional_huMoments[i], regional_huMoments[j]))\n",
    "    else:\n",
    "      dist.append(100000)\n",
    "  print(f\"{i}th contour has the same shape as {np.argmin(dist)}\")"
   ],
   "metadata": {
    "colab": {
     "base_uri": "https://localhost:8080/"
    },
    "id": "gBJC7Ohvf_qS",
    "outputId": "a62fd558-dbec-4408-8a29-5e236f939ef1"
   },
   "execution_count": null,
   "outputs": [
    {
     "output_type": "stream",
     "name": "stdout",
     "text": [
      "0th contour has the same shape as 10\n",
      "1th contour has the same shape as 11\n",
      "2th contour has the same shape as 5\n",
      "3th contour has the same shape as 14\n",
      "4th contour has the same shape as 15\n",
      "5th contour has the same shape as 2\n",
      "6th contour has the same shape as 1\n",
      "7th contour has the same shape as 13\n",
      "8th contour has the same shape as 2\n",
      "9th contour has the same shape as 6\n",
      "10th contour has the same shape as 0\n",
      "11th contour has the same shape as 1\n",
      "12th contour has the same shape as 2\n",
      "13th contour has the same shape as 15\n",
      "14th contour has the same shape as 3\n",
      "15th contour has the same shape as 13\n"
     ]
    }
   ]
  },
  {
   "cell_type": "code",
   "source": [
    "df = pd.DataFrame(regional_huMoments)\n",
    "shape_group = np.zeros(len(contours))\n",
    "threshold = 0.9\n",
    "corr_mat = df.T.corr()\n",
    "for i in range(corr_mat.shape[0] - 1):\n",
    "  for j in range(i + 1, corr_mat.shape[1]):\n",
    "    if corr_mat[i].iloc[j] != 1 and abs(corr_mat[i].iloc[j]) > threshold:\n",
    "      if shape_group[j] == 0:\n",
    "        shape_group[j] = i + 1"
   ],
   "metadata": {
    "id": "wsO6_cTsQKTK"
   },
   "execution_count": null,
   "outputs": []
  }
 ],
 "metadata": {
  "kernelspec": {
   "display_name": "Python 3",
   "language": "python",
   "name": "python3"
  },
  "language_info": {
   "codemirror_mode": {
    "name": "ipython",
    "version": 2
   },
   "file_extension": ".py",
   "mimetype": "text/x-python",
   "name": "python",
   "nbconvert_exporter": "python",
   "pygments_lexer": "ipython2",
   "version": "2.7.6"
  },
  "colab": {
   "provenance": [],
   "collapsed_sections": []
  }
 },
 "nbformat": 4,
 "nbformat_minor": 0
}
